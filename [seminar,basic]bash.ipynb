{
  "nbformat": 4,
  "nbformat_minor": 0,
  "metadata": {
    "colab": {
      "provenance": [],
      "collapsed_sections": [
        "hDuUsb-hSmsJ",
        "9DRyKxZJUdNx"
      ],
      "include_colab_link": true
    },
    "kernelspec": {
      "name": "python3",
      "display_name": "Python 3"
    }
  },
  "cells": [
    {
      "cell_type": "markdown",
      "metadata": {
        "id": "view-in-github",
        "colab_type": "text"
      },
      "source": [
        "<a href=\"https://colab.research.google.com/github/AntonDozhdikov/MFTI/blob/main/%5Bseminar%2Cbasic%5Dbash.ipynb\" target=\"_parent\"><img src=\"https://colab.research.google.com/assets/colab-badge.svg\" alt=\"Open In Colab\"/></a>"
      ]
    },
    {
      "cell_type": "code",
      "metadata": {
        "id": "R-ljAeWuqNN4",
        "outputId": "0dc67175-053e-4a92-d2d2-6e4a76f47012",
        "colab": {
          "base_uri": "https://localhost:8080/"
        }
      },
      "source": [
        "!apt-get moo"
      ],
      "execution_count": 3,
      "outputs": [
        {
          "output_type": "stream",
          "name": "stdout",
          "text": [
            "                        (__) \n",
            "                        (oo) \n",
            "                  /------\\/ \n",
            "                 / |    ||   \n",
            "                *  /\\---/\\ \n",
            "                   ~~   ~~   \n",
            "...\"It's a Bird ... It's a Plane ... It's Super Cow!\"...\n"
          ]
        }
      ]
    },
    {
      "cell_type": "markdown",
      "metadata": {
        "id": "SR5360mDq7IG"
      },
      "source": [
        "В этом ноутбуке мы рассмотрим базовые команды командной строки в Linux\n",
        "\n",
        "План\n",
        "  - Команды UNIX\n",
        "  - Файловая система\n",
        "  - Аргументы к командам\n",
        "  - Переменные окружения\n"
      ]
    },
    {
      "cell_type": "markdown",
      "metadata": {
        "id": "exbUbtJhzNW0"
      },
      "source": [
        "# Команды в UNIX"
      ]
    },
    {
      "cell_type": "markdown",
      "metadata": {
        "id": "cyxieSjTuGpw"
      },
      "source": [
        "Линукс принадлежит большому семейству операционных систем под названием UNIX, коорые происходят от ОС AT&T Unix, разроботанной еще в 1970х. Mac OS, кстати тоже ее потомок.\n",
        "\n",
        "В операционных системах UNIX-типа для взаимодействия с ОС используют специальные команды. До появления окошек и кнопочек люди создавали файлы и запускали команды исключительно с помощью этих команд. \n",
        "\n",
        "Сейчас этот способ тоже исользуют, тк есть ряд преимуществ:\n",
        " - Намного более удобное подключение к компьютеру по сети\n",
        " - Иногда удобнее запустить одну команду, чем бродить по менюшкам в поисках нужной опции.\n",
        " - Ломанды можно составлять в скрипты и автоматизировать задачи\n",
        " \n",
        "\n"
      ]
    },
    {
      "cell_type": "markdown",
      "metadata": {
        "id": "4Kgd_-Jdq-HJ"
      },
      "source": [
        "Небольшой ликбез по понятиям:\n",
        "\n",
        "- **Командная строка** - вид интерфейса, когда вы набираете текстовые команды\n",
        "- **Терминал** - Программа, которая отображает строку. Например: *gnome-terminal*, *xterm*, *tilda*\n",
        "- **Оболочка (shell)** - Программа которая выполняет команды. Например: *bash*, *zsh*, *ssh*\n",
        "- **Консоль** - Железо, например клавиатура и монитор."
      ]
    },
    {
      "cell_type": "markdown",
      "metadata": {
        "id": "zsNEkoiC4I3d"
      },
      "source": [
        "Запускать команды можно как из терминала, так и из юпитера или колаба, поставив перед командой !"
      ]
    },
    {
      "cell_type": "code",
      "metadata": {
        "id": "wujSZ66i4UVm",
        "colab": {
          "base_uri": "https://localhost:8080/"
        },
        "outputId": "b5a0246a-03fe-434c-b6ba-410babfaa083"
      },
      "source": [
        "!echo \"Hello World\""
      ],
      "execution_count": 4,
      "outputs": [
        {
          "output_type": "stream",
          "name": "stdout",
          "text": [
            "Hello World\n"
          ]
        }
      ]
    },
    {
      "cell_type": "markdown",
      "metadata": {
        "id": "z8n1PxRZ0j7P"
      },
      "source": [
        "# Файловая система"
      ]
    },
    {
      "cell_type": "markdown",
      "metadata": {
        "id": "WwN4S7rv08JV"
      },
      "source": [
        "В Unix системах все файлы образуют структуру похожую на дерево, в каждой директории(папке) хранятся файлы и другие директории. Самая первая директория которая содержит все остальные, называется корневой (*root*)\n",
        "\n",
        "\n",
        "У каждой директории есть путь (по сути, просто строка) который показывает где она находится в этом дереве. \"/\" - это путь корневой директории. \n",
        "\n",
        "---\n",
        "\n",
        "\n",
        "\n",
        "![alt text](http://linuxcommand.org/images/file_manager.jpg)\n",
        "\n",
        "В командной строке все команды выполняются в какой-либо директории.\n",
        "\n",
        "Представьте, что дерево файловой системы - это лабиринт, и каждая директория - это комната с файлами и дверьми в другие директории. В каждый момент времени вы находитесь в одной комнате.\n",
        "\n",
        "Посмотрм, как нам ходить по нашему лабиринту."
      ]
    },
    {
      "cell_type": "code",
      "metadata": {
        "id": "j2I1ZXrKq0tp",
        "colab": {
          "base_uri": "https://localhost:8080/"
        },
        "outputId": "27da0814-46a7-46f6-b7bb-5c290a741dab"
      },
      "source": [
        "# Выведем путь текущей директории\n",
        "!pwd"
      ],
      "execution_count": 5,
      "outputs": [
        {
          "output_type": "stream",
          "name": "stdout",
          "text": [
            "/content\n"
          ]
        }
      ]
    },
    {
      "cell_type": "code",
      "metadata": {
        "id": "9sQwAxoT5-kO",
        "colab": {
          "base_uri": "https://localhost:8080/"
        },
        "outputId": "510c559f-19a9-459b-8bf5-e4637cffd6e8"
      },
      "source": [
        "# Посмотрим что в нашей директории есть\n",
        "!ls \n",
        "#ls is for \"list\""
      ],
      "execution_count": 6,
      "outputs": [
        {
          "output_type": "stream",
          "name": "stdout",
          "text": [
            "sample_data\n"
          ]
        }
      ]
    },
    {
      "cell_type": "markdown",
      "metadata": {
        "id": "6nxK6kkD7b_f"
      },
      "source": [
        "Некоторые директории хранят файлы необходимые для работы программ. В них нужно что-либо менять только если значешь, что делаешь. \n",
        "\n",
        "Это так называемые скрытые директории (hidden или dot directories/files)."
      ]
    },
    {
      "cell_type": "code",
      "metadata": {
        "id": "OVS6HKB26mG2"
      },
      "source": [
        "#"
      ],
      "execution_count": 7,
      "outputs": []
    },
    {
      "cell_type": "code",
      "metadata": {
        "id": "nYL2dtfK6iWP",
        "colab": {
          "base_uri": "https://localhost:8080/"
        },
        "outputId": "fb263b49-0bbf-4a1e-d9d2-654d0d70254c"
      },
      "source": [
        "#Создадим пустой файлик\n",
        "! touch test-file\n",
        "# пробел в имени - плохая идея, создадутся два файла\n",
        "! touch hello world\n",
        "\n",
        "# посмотрим что получилось\n",
        "! ls"
      ],
      "execution_count": 8,
      "outputs": [
        {
          "output_type": "stream",
          "name": "stdout",
          "text": [
            "hello  sample_data  test-file  world\n"
          ]
        }
      ]
    },
    {
      "cell_type": "code",
      "metadata": {
        "id": "AFTolllI-gJH",
        "colab": {
          "base_uri": "https://localhost:8080/"
        },
        "outputId": "b3134eed-f03b-4e32-8722-802d9abf91c1"
      },
      "source": [
        "#Удаление файлов\n",
        "! rm world\n",
        "! ls"
      ],
      "execution_count": 9,
      "outputs": [
        {
          "output_type": "stream",
          "name": "stdout",
          "text": [
            "hello  sample_data  test-file\n"
          ]
        }
      ]
    },
    {
      "cell_type": "code",
      "metadata": {
        "id": "dkLsVgkX_RNT"
      },
      "source": [
        "# Новая директория\n",
        "! mkdir please_come_here\n"
      ],
      "execution_count": 10,
      "outputs": []
    },
    {
      "cell_type": "markdown",
      "metadata": {
        "id": "hgVO1IAOAseT"
      },
      "source": [
        "Некоторые директории хранят файлы необходимые для работы программ. В них нужно что-либо менять только если значешь, что делаешь.\n",
        "\n",
        "Это так называемые скрытые директории (hidden или dot directories/files).\n"
      ]
    },
    {
      "cell_type": "code",
      "metadata": {
        "id": "JTxijZDRq8bN",
        "colab": {
          "base_uri": "https://localhost:8080/"
        },
        "outputId": "d54691a5-a12f-424f-b984-c58a4f603383"
      },
      "source": [
        "# Покажем больше информации и отобразим скрытые файлы\n",
        "!ls -al\n",
        "# Первое слово - команда, а второе - аргумент"
      ],
      "execution_count": 11,
      "outputs": [
        {
          "output_type": "stream",
          "name": "stdout",
          "text": [
            "total 20\n",
            "drwxr-xr-x 1 root root 4096 Feb 18 06:18 .\n",
            "drwxr-xr-x 1 root root 4096 Feb 18 06:15 ..\n",
            "drwxr-xr-x 4 root root 4096 Feb 17 19:29 .config\n",
            "-rw-r--r-- 1 root root    0 Feb 18 06:17 hello\n",
            "drwxr-xr-x 2 root root 4096 Feb 18 06:18 please_come_here\n",
            "drwxr-xr-x 1 root root 4096 Feb 17 19:30 sample_data\n",
            "-rw-r--r-- 1 root root    0 Feb 18 06:17 test-file\n"
          ]
        }
      ]
    },
    {
      "cell_type": "markdown",
      "metadata": {
        "id": "K8Tei_Rz8ELQ"
      },
      "source": [
        "\n",
        "\n",
        "```\n",
        ".  - это путь к той директории в которой мы уже находимся\n",
        ".. - это путь к родительской директории\n",
        ".config - это скрытая папка\n",
        "```\n",
        "\n",
        "Каждая строчка - это одна из \"дверей\" в другую директорию либо файл.\n",
        "*Относительный* путь это не полный \"адрес\" директории а то, куда нам нужно пойти из места в котором мы сейчас находимся. \n",
        "\n",
        "\n",
        "```\n",
        " drwxr-xr-x 1 root root 4096 Feb 15 17:21 please_come_here\n",
        " |                           дата создания    |\n",
        " |                                         _относительный_ путь\n",
        " |\n",
        "  \\ эта метка значит, что это путь к другой директории\n",
        "```\n",
        "\n"
      ]
    },
    {
      "cell_type": "code",
      "metadata": {
        "id": "ozI5vv-G_Ato",
        "colab": {
          "base_uri": "https://localhost:8080/"
        },
        "outputId": "3077f756-026c-4451-9c84-395b1afbafaa"
      },
      "source": [
        "# переход в другую директорию команда cd\n",
        "! pwd\n",
        "! cd please_come_here\n",
        "! pwd"
      ],
      "execution_count": 12,
      "outputs": [
        {
          "output_type": "stream",
          "name": "stdout",
          "text": [
            "/content\n",
            "/content\n"
          ]
        }
      ]
    },
    {
      "cell_type": "markdown",
      "metadata": {
        "id": "j1YxW23TCoDo"
      },
      "source": [
        "Заработало?\n",
        "\n",
        "Не должно. Тут проблема в том что юпитер запускает каждый раз новую оболочку в своей директории (той, откуда его вызвали) , и после завершения команды она закрывается.\n",
        "\n",
        "Чтоб команды запускались в новой директории нужно поменять директорию самого юпитера.\n",
        "\n",
        "\n",
        "```\n",
        "%cd\n",
        "```\n",
        "\n"
      ]
    },
    {
      "cell_type": "code",
      "metadata": {
        "id": "KwJPa7wBA7QK"
      },
      "source": [
        "! pwd\n",
        "% cd please_come_here\n",
        "! pwd"
      ],
      "execution_count": null,
      "outputs": []
    },
    {
      "cell_type": "markdown",
      "metadata": {
        "id": "XkxqDBlcpvtR"
      },
      "source": [
        "Когда мы переходим в другую директорию, ее имя добавляется к нашему пути через \"/\"\n",
        "\n",
        "Например, были в `/home`, перешли в директорию `Pictures `оказались в `/home/Pictures`\n",
        "\n",
        "Абсолютный путь файла в этой директории будет /home/Picutes/image.png \n",
        "\n",
        "Если мы хотим взять файл из директории, которая является дочерней к той директории, где мы сейчас находимся, мы можем указать относительный путь файла.\n",
        "\n",
        "Например, из директории `/home` мы должны обращаться к нему по пути `Pictures/image.png`"
      ]
    },
    {
      "cell_type": "code",
      "metadata": {
        "id": "2HUAw_NLBKyb"
      },
      "source": [
        "# команды можно комбинировать в одну символом &\n",
        "! ls & ls -a & pwd\n",
        "%cd ..\n",
        "\n",
        "# Чтоб команды выполнялись одна за одной нужно использовать &&\n",
        "! pwd && cd please_come_here && pwd"
      ],
      "execution_count": null,
      "outputs": []
    },
    {
      "cell_type": "markdown",
      "metadata": {
        "id": "hDuUsb-hSmsJ"
      },
      "source": [
        "## Запись и чтение в файлы"
      ]
    },
    {
      "cell_type": "code",
      "metadata": {
        "id": "KzJChjwnRhm4",
        "colab": {
          "base_uri": "https://localhost:8080/"
        },
        "outputId": "fc73a617-e713-4a91-a3b2-7f29f0338351"
      },
      "source": [
        "# Вывести текст в консоль\n",
        "\n",
        "!echo \"Sample text Пример текста\"\n",
        "# Echo - потому что команда выводит на выход то же, что и получает"
      ],
      "execution_count": 13,
      "outputs": [
        {
          "output_type": "stream",
          "name": "stdout",
          "text": [
            "Sample text Пример текста\n"
          ]
        }
      ]
    },
    {
      "cell_type": "code",
      "metadata": {
        "id": "WKrcMKg9R-I5"
      },
      "source": [
        "# Вместо консоли отправить в файл\n",
        "\n",
        "! echo \"London is the capital of Great Britain\" >> English.txt\n"
      ],
      "execution_count": 14,
      "outputs": []
    },
    {
      "cell_type": "code",
      "metadata": {
        "id": "4Ht2nwgeSXhi",
        "colab": {
          "base_uri": "https://localhost:8080/"
        },
        "outputId": "78396752-0161-40d3-c1d4-7ec6871c0587"
      },
      "source": [
        "# Прочитать файл и вывести в консоль\n",
        "\n",
        "! cat English.txt"
      ],
      "execution_count": 15,
      "outputs": [
        {
          "output_type": "stream",
          "name": "stdout",
          "text": [
            "London is the capital of Great Britain\n"
          ]
        }
      ]
    },
    {
      "cell_type": "markdown",
      "metadata": {
        "id": "9DRyKxZJUdNx"
      },
      "source": [
        "## Скачивание из интернета"
      ]
    },
    {
      "cell_type": "code",
      "metadata": {
        "id": "EzS_vui3Ucer",
        "colab": {
          "base_uri": "https://localhost:8080/"
        },
        "outputId": "4842bd70-933d-471f-9d56-57ca1845da97"
      },
      "source": [
        "# сохраняем старницу по адресу\n",
        "\n",
        "! curl example.com >> example-com.html\n",
        "! ls\n",
        "! cat example-com.html\n"
      ],
      "execution_count": 22,
      "outputs": [
        {
          "output_type": "stream",
          "name": "stdout",
          "text": [
            "  % Total    % Received % Xferd  Average Speed   Time    Time     Time  Current\n",
            "                                 Dload  Upload   Total   Spent    Left  Speed\n",
            "\r  0     0    0     0    0     0      0      0 --:--:-- --:--:-- --:--:--     0\r100  1256  100  1256    0     0  22836      0 --:--:-- --:--:-- --:--:-- 22836\n",
            "English.txt\t  hello       please_come_here\ttest-file\n",
            "example-com.html  insta.html  sample_data\n",
            "<!doctype html>\n",
            "<html>\n",
            "<head>\n",
            "    <title>Example Domain</title>\n",
            "\n",
            "    <meta charset=\"utf-8\" />\n",
            "    <meta http-equiv=\"Content-type\" content=\"text/html; charset=utf-8\" />\n",
            "    <meta name=\"viewport\" content=\"width=device-width, initial-scale=1\" />\n",
            "    <style type=\"text/css\">\n",
            "    body {\n",
            "        background-color: #f0f0f2;\n",
            "        margin: 0;\n",
            "        padding: 0;\n",
            "        font-family: -apple-system, system-ui, BlinkMacSystemFont, \"Segoe UI\", \"Open Sans\", \"Helvetica Neue\", Helvetica, Arial, sans-serif;\n",
            "        \n",
            "    }\n",
            "    div {\n",
            "        width: 600px;\n",
            "        margin: 5em auto;\n",
            "        padding: 2em;\n",
            "        background-color: #fdfdff;\n",
            "        border-radius: 0.5em;\n",
            "        box-shadow: 2px 3px 7px 2px rgba(0,0,0,0.02);\n",
            "    }\n",
            "    a:link, a:visited {\n",
            "        color: #38488f;\n",
            "        text-decoration: none;\n",
            "    }\n",
            "    @media (max-width: 700px) {\n",
            "        div {\n",
            "            margin: 0 auto;\n",
            "            width: auto;\n",
            "        }\n",
            "    }\n",
            "    </style>    \n",
            "</head>\n",
            "\n",
            "<body>\n",
            "<div>\n",
            "    <h1>Example Domain</h1>\n",
            "    <p>This domain is for use in illustrative examples in documents. You may use this\n",
            "    domain in literature without prior coordination or asking for permission.</p>\n",
            "    <p><a href=\"https://www.iana.org/domains/example\">More information...</a></p>\n",
            "</div>\n",
            "</body>\n",
            "</html>\n",
            "<!doctype html>\n",
            "<html>\n",
            "<head>\n",
            "    <title>Example Domain</title>\n",
            "\n",
            "    <meta charset=\"utf-8\" />\n",
            "    <meta http-equiv=\"Content-type\" content=\"text/html; charset=utf-8\" />\n",
            "    <meta name=\"viewport\" content=\"width=device-width, initial-scale=1\" />\n",
            "    <style type=\"text/css\">\n",
            "    body {\n",
            "        background-color: #f0f0f2;\n",
            "        margin: 0;\n",
            "        padding: 0;\n",
            "        font-family: -apple-system, system-ui, BlinkMacSystemFont, \"Segoe UI\", \"Open Sans\", \"Helvetica Neue\", Helvetica, Arial, sans-serif;\n",
            "        \n",
            "    }\n",
            "    div {\n",
            "        width: 600px;\n",
            "        margin: 5em auto;\n",
            "        padding: 2em;\n",
            "        background-color: #fdfdff;\n",
            "        border-radius: 0.5em;\n",
            "        box-shadow: 2px 3px 7px 2px rgba(0,0,0,0.02);\n",
            "    }\n",
            "    a:link, a:visited {\n",
            "        color: #38488f;\n",
            "        text-decoration: none;\n",
            "    }\n",
            "    @media (max-width: 700px) {\n",
            "        div {\n",
            "            margin: 0 auto;\n",
            "            width: auto;\n",
            "        }\n",
            "    }\n",
            "    </style>    \n",
            "</head>\n",
            "\n",
            "<body>\n",
            "<div>\n",
            "    <h1>Example Domain</h1>\n",
            "    <p>This domain is for use in illustrative examples in documents. You may use this\n",
            "    domain in literature without prior coordination or asking for permission.</p>\n",
            "    <p><a href=\"https://www.iana.org/domains/example\">More information...</a></p>\n",
            "</div>\n",
            "</body>\n",
            "</html>\n",
            "<!doctype html>\n",
            "<html>\n",
            "<head>\n",
            "    <title>Example Domain</title>\n",
            "\n",
            "    <meta charset=\"utf-8\" />\n",
            "    <meta http-equiv=\"Content-type\" content=\"text/html; charset=utf-8\" />\n",
            "    <meta name=\"viewport\" content=\"width=device-width, initial-scale=1\" />\n",
            "    <style type=\"text/css\">\n",
            "    body {\n",
            "        background-color: #f0f0f2;\n",
            "        margin: 0;\n",
            "        padding: 0;\n",
            "        font-family: -apple-system, system-ui, BlinkMacSystemFont, \"Segoe UI\", \"Open Sans\", \"Helvetica Neue\", Helvetica, Arial, sans-serif;\n",
            "        \n",
            "    }\n",
            "    div {\n",
            "        width: 600px;\n",
            "        margin: 5em auto;\n",
            "        padding: 2em;\n",
            "        background-color: #fdfdff;\n",
            "        border-radius: 0.5em;\n",
            "        box-shadow: 2px 3px 7px 2px rgba(0,0,0,0.02);\n",
            "    }\n",
            "    a:link, a:visited {\n",
            "        color: #38488f;\n",
            "        text-decoration: none;\n",
            "    }\n",
            "    @media (max-width: 700px) {\n",
            "        div {\n",
            "            margin: 0 auto;\n",
            "            width: auto;\n",
            "        }\n",
            "    }\n",
            "    </style>    \n",
            "</head>\n",
            "\n",
            "<body>\n",
            "<div>\n",
            "    <h1>Example Domain</h1>\n",
            "    <p>This domain is for use in illustrative examples in documents. You may use this\n",
            "    domain in literature without prior coordination or asking for permission.</p>\n",
            "    <p><a href=\"https://www.iana.org/domains/example\">More information...</a></p>\n",
            "</div>\n",
            "</body>\n",
            "</html>\n"
          ]
        }
      ]
    },
    {
      "cell_type": "code",
      "metadata": {
        "id": "bONrzreaXVkD"
      },
      "source": [
        "! curl instagram.com"
      ],
      "execution_count": 20,
      "outputs": []
    },
    {
      "cell_type": "markdown",
      "metadata": {
        "id": "hdEXswC6YBCJ"
      },
      "source": [
        "Иногда сервера пытаются перенаправить запрос на другой адрес. Curl не следует по таким перенаправлениям. Есть прогаммка wget которая может переходить по таким ссылкам и вообще проходить по всем ссылкам на странице и скачивать их."
      ]
    },
    {
      "cell_type": "code",
      "metadata": {
        "id": "BscMnGvUYeBT",
        "colab": {
          "base_uri": "https://localhost:8080/"
        },
        "outputId": "7ca99fbe-7f54-43b9-ca63-4d259a231c67"
      },
      "source": [
        "! wget instagram.com -O insta.html"
      ],
      "execution_count": 21,
      "outputs": [
        {
          "output_type": "stream",
          "name": "stdout",
          "text": [
            "URL transformed to HTTPS due to an HSTS policy\n",
            "--2023-02-18 06:19:39--  https://instagram.com/\n",
            "Resolving instagram.com (instagram.com)... 157.240.254.174, 2a03:2880:f275:1e9:face:b00c:0:4420\n",
            "Connecting to instagram.com (instagram.com)|157.240.254.174|:443... connected.\n",
            "HTTP request sent, awaiting response... 301 Moved Permanently\n",
            "Location: https://www.instagram.com/ [following]\n",
            "--2023-02-18 06:19:39--  https://www.instagram.com/\n",
            "Resolving www.instagram.com (www.instagram.com)... 157.240.254.174, 2a03:2880:f275:e9:face:b00c:0:4420\n",
            "Connecting to www.instagram.com (www.instagram.com)|157.240.254.174|:443... connected.\n",
            "HTTP request sent, awaiting response... 302 Found\n",
            "Location: https://www.facebook.com/unsupportedbrowser [following]\n",
            "--2023-02-18 06:19:39--  https://www.facebook.com/unsupportedbrowser\n",
            "Resolving www.facebook.com (www.facebook.com)... 157.240.254.35, 2a03:2880:f175:181:face:b00c:0:25de\n",
            "Connecting to www.facebook.com (www.facebook.com)|157.240.254.35|:443... connected.\n",
            "HTTP request sent, awaiting response... 200 OK\n",
            "Length: unspecified [text/html]\n",
            "Saving to: ‘insta.html’\n",
            "\n",
            "insta.html              [ <=>                ]  47.27K  --.-KB/s    in 0.02s   \n",
            "\n",
            "2023-02-18 06:19:40 (2.24 MB/s) - ‘insta.html’ saved [48403]\n",
            "\n"
          ]
        }
      ]
    },
    {
      "cell_type": "markdown",
      "metadata": {
        "id": "vvDscEabYqhr"
      },
      "source": [
        "Обратите внимание на\n",
        "\n",
        "`HTTP request sent, awaiting response... 301 Moved Permanently`"
      ]
    },
    {
      "cell_type": "code",
      "metadata": {
        "id": "YLwadqvPYpW4"
      },
      "source": [],
      "execution_count": 21,
      "outputs": []
    },
    {
      "cell_type": "markdown",
      "metadata": {
        "id": "MXDgtgM3PjlU"
      },
      "source": [
        "# Аргументы и параметры к командам"
      ]
    },
    {
      "cell_type": "markdown",
      "metadata": {
        "id": "L5t2LkSzPwFa"
      },
      "source": [
        "Обычно аргументы – это то, над чем выполняется команда. Например, команда перехода в другую директорию должна получить в качестве аргумента путь директории, куда следует перейти. Команде вывода на экран содержимого файла надо передать имя файла.\n",
        "\n",
        "Параметры модифицируют, как бы видоизменяют работу программы. Например, с помощью команды просмотра содержимого каталога можно вывести простой список вложенных объектов. Используя же определенный параметр, можно получить подробные сведения о каждом файле и папке.\n",
        "\n",
        "Аргументы идут через пробел как отдельные слова\n",
        "\n",
        "Параметры идут после дефиса: ` -f` (однобуквенные) либо после двух дефисов: `--file`  "
      ]
    },
    {
      "cell_type": "code",
      "metadata": {
        "id": "uXUizaaSBnsl",
        "colab": {
          "base_uri": "https://localhost:8080/"
        },
        "outputId": "ae754f2d-3939-4c99-d400-b83599bb0806"
      },
      "source": [
        "# календарик на весь год\n",
        "\n",
        "!ncal 2023\n"
      ],
      "execution_count": 24,
      "outputs": [
        {
          "output_type": "stream",
          "name": "stdout",
          "text": [
            "                                  2023\n",
            "    January           February          March             April             \n",
            "Su  1  8 15 22 29        5 12 19 26        5 12 19 26        2  9 16 23 30\n",
            "Mo  2  9 16 23 30        6 13 20 27        6 13 20 27        3 10 17 24   \n",
            "Tu  3 10 17 24 31        7 14 21 28        7 14 21 28        4 11 18 25   \n",
            "We  4 11 18 25        1  8 15 22        1  8 15 22 29        5 12 19 26   \n",
            "Th  5 12 19 26        2  9 16 23        2  9 16 23 30        6 13 20 27   \n",
            "Fr  6 13 20 27        3 10 17 24        3 10 17 24 31        7 14 21 28   \n",
            "Sa  7 14 21 28        4 11 \u001b[7m18\u001b[m 25        4 11 18 25        1  8 15 22 29   \n",
            "\n",
            "    May               June              July              August            \n",
            "Su     7 14 21 28        4 11 18 25        2  9 16 23 30     6 13 20 27   \n",
            "Mo  1  8 15 22 29        5 12 19 26        3 10 17 24 31     7 14 21 28   \n",
            "Tu  2  9 16 23 30        6 13 20 27        4 11 18 25     1  8 15 22 29   \n",
            "We  3 10 17 24 31        7 14 21 28        5 12 19 26     2  9 16 23 30   \n",
            "Th  4 11 18 25        1  8 15 22 29        6 13 20 27     3 10 17 24 31   \n",
            "Fr  5 12 19 26        2  9 16 23 30        7 14 21 28     4 11 18 25      \n",
            "Sa  6 13 20 27        3 10 17 24        1  8 15 22 29     5 12 19 26      \n",
            "\n",
            "    September         October           November          December          \n",
            "Su     3 10 17 24     1  8 15 22 29        5 12 19 26        3 10 17 24 31\n",
            "Mo     4 11 18 25     2  9 16 23 30        6 13 20 27        4 11 18 25   \n",
            "Tu     5 12 19 26     3 10 17 24 31        7 14 21 28        5 12 19 26   \n",
            "We     6 13 20 27     4 11 18 25        1  8 15 22 29        6 13 20 27   \n",
            "Th     7 14 21 28     5 12 19 26        2  9 16 23 30        7 14 21 28   \n",
            "Fr  1  8 15 22 29     6 13 20 27        3 10 17 24        1  8 15 22 29   \n",
            "Sa  2  9 16 23 30     7 14 21 28        4 11 18 25        2  9 16 23 30   \n"
          ]
        }
      ]
    },
    {
      "cell_type": "code",
      "metadata": {
        "id": "2aciKu7IB5Vm",
        "colab": {
          "base_uri": "https://localhost:8080/"
        },
        "outputId": "88d19dbc-a6f1-44c4-d2a0-9bbc3d1c3e06"
      },
      "source": [
        "# передаем 2 аргумента\n",
        "\n",
        "!ncal 05 2023\n"
      ],
      "execution_count": 25,
      "outputs": [
        {
          "output_type": "stream",
          "name": "stdout",
          "text": [
            "    May 2023          \n",
            "Su     7 14 21 28   \n",
            "Mo  1  8 15 22 29   \n",
            "Tu  2  9 16 23 30   \n",
            "We  3 10 17 24 31   \n",
            "Th  4 11 18 25      \n",
            "Fr  5 12 19 26      \n",
            "Sa  6 13 20 27      \n"
          ]
        }
      ]
    },
    {
      "cell_type": "code",
      "metadata": {
        "id": "4l3d14WtfIAA",
        "colab": {
          "base_uri": "https://localhost:8080/"
        },
        "outputId": "f4773db5-9f64-471a-9917-cf916fc22046"
      },
      "source": [
        "# передаем параметр -b\n",
        "\n",
        "!ncal -b 03 2023\n"
      ],
      "execution_count": 26,
      "outputs": [
        {
          "output_type": "stream",
          "name": "stdout",
          "text": [
            "     March 2023       \n",
            "Su Mo Tu We Th Fr Sa  \n",
            "          1  2  3  4  \n",
            " 5  6  7  8  9 10 11  \n",
            "12 13 14 15 16 17 18  \n",
            "19 20 21 22 23 24 25  \n",
            "26 27 28 29 30 31     \n",
            "                      \n"
          ]
        }
      ]
    },
    {
      "cell_type": "code",
      "metadata": {
        "id": "vk9NUxh4fQPy",
        "colab": {
          "base_uri": "https://localhost:8080/"
        },
        "outputId": "f6e1f274-4718-451d-bed0-e1daef7e93d3"
      },
      "source": [
        "# Однобуквенные параметры можно склеивать\n",
        "\n",
        "!ncal -b -w 03 2019\n",
        "!ncal -bw 03 2019"
      ],
      "execution_count": 27,
      "outputs": [
        {
          "output_type": "stream",
          "name": "stdout",
          "text": [
            "       March 2019          \n",
            " w| Su Mo Tu We Th Fr Sa   \n",
            " 8|                 1  2   \n",
            " 9|  3  4  5  6  7  8  9   \n",
            "10| 10 11 12 13 14 15 16   \n",
            "11| 17 18 19 20 21 22 23   \n",
            "12| 24 25 26 27 28 29 30   \n",
            "13| 31                     \n",
            "       March 2019          \n",
            " w| Su Mo Tu We Th Fr Sa   \n",
            " 8|                 1  2   \n",
            " 9|  3  4  5  6  7  8  9   \n",
            "10| 10 11 12 13 14 15 16   \n",
            "11| 17 18 19 20 21 22 23   \n",
            "12| 24 25 26 27 28 29 30   \n",
            "13| 31                     \n"
          ]
        }
      ]
    },
    {
      "cell_type": "markdown",
      "metadata": {
        "id": "V7jcOwBpgd1U"
      },
      "source": [
        "# Переменные окружения"
      ]
    },
    {
      "cell_type": "markdown",
      "metadata": {
        "id": "gm-YZUlLi0lT"
      },
      "source": [
        "Оболочка в себе содержит так называемые переменные окружения - глобальные константы которые доступны всем программам которые она выполняет. В них удобно хранить например путь к конфигурационным файлам или порт какого нибудь сервиса.\n",
        "\n",
        "Переменные окружения зачастую определяют как ведет себя программа. Например, питон ищет пакеты в переменной `PYTHONPATH`\n",
        "\n",
        "В переменной `PATH` находятся пути в которых Bash ищет исполняемые файлы для других программ\n"
      ]
    },
    {
      "cell_type": "code",
      "metadata": {
        "id": "QRCUr1pTfQLZ",
        "colab": {
          "base_uri": "https://localhost:8080/"
        },
        "outputId": "3588e4f9-d7af-49fb-d49a-6febbafad160"
      },
      "source": [
        "# обьявляем переменную и считываем ее ($ перед именем)\n",
        "!FOO=kindersurprise && echo $FOO"
      ],
      "execution_count": 29,
      "outputs": [
        {
          "output_type": "stream",
          "name": "stdout",
          "text": [
            "kindersurprise\n"
          ]
        }
      ]
    },
    {
      "cell_type": "code",
      "metadata": {
        "id": "ow-40MynjgVV",
        "colab": {
          "base_uri": "https://localhost:8080/"
        },
        "outputId": "244a00ba-00d4-4240-dadd-e55ced75a099"
      },
      "source": [
        "!echo $PATH\n",
        "!echo $PYTHONPATH"
      ],
      "execution_count": 30,
      "outputs": [
        {
          "output_type": "stream",
          "name": "stdout",
          "text": [
            "/opt/bin:/usr/local/nvidia/bin:/usr/local/cuda/bin:/usr/local/sbin:/usr/local/bin:/usr/sbin:/usr/bin:/sbin:/bin:/tools/node/bin:/tools/google-cloud-sdk/bin\n",
            "/env/python\n"
          ]
        }
      ]
    },
    {
      "cell_type": "markdown",
      "metadata": {
        "id": "n9L5dgVwkzhV"
      },
      "source": [
        "Мы можем создать новую папку и заставить питон думать что в ней лежит модуль"
      ]
    },
    {
      "cell_type": "code",
      "metadata": {
        "id": "uA50ME6BktK9",
        "colab": {
          "base_uri": "https://localhost:8080/"
        },
        "outputId": "38762e21-a465-4ed4-87ce-be69085d5bf2"
      },
      "source": [
        "! rm -r fakemodule\n",
        "!mkdir fakemodule\n",
        "!mkdir fakemodule/power\n",
        "! echo \"print('A great power comes with a great responsibility')\" >> fakemodule/power/__init__.py\n",
        "\n",
        "\n"
      ],
      "execution_count": 31,
      "outputs": [
        {
          "output_type": "stream",
          "name": "stdout",
          "text": [
            "rm: cannot remove 'fakemodule': No such file or directory\n"
          ]
        }
      ]
    },
    {
      "cell_type": "code",
      "metadata": {
        "id": "QgLMIDMkuRTk"
      },
      "source": [
        "!export a=\"Эта переменная будет доступна другим программам вызванным в той же оболочке\" && echo $a\n",
        "# Но тут уже не получится, для каждой команды Jupyter запускает свою оболочку \n",
        "! echo $a"
      ],
      "execution_count": null,
      "outputs": []
    },
    {
      "cell_type": "code",
      "metadata": {
        "id": "y1v9jifPlRZv"
      },
      "source": [
        "! PYTHONPATH=$PYTHONPATH:$(pwd)/fakemodule && python -c 'import power'"
      ],
      "execution_count": null,
      "outputs": []
    },
    {
      "cell_type": "markdown",
      "metadata": {
        "id": "nU9-VI-ErsHX"
      },
      "source": [
        "конструкция `$(pwd)` подставляет вывод команды `pwd` в выражение. \n",
        "\n",
        "\n",
        "```\n",
        "PYTHONPATH=$PYTHONPATH:$(pwd)/fakemodule\n",
        "\n",
        "```\n",
        "После подстановки переменных мы получим \n",
        "\n",
        "```\n",
        "PYTHONPATH=<то что было в PYTHONPATH>:<текущая директория>/fakemodule\n",
        "\n",
        "```\n",
        "Это добавит нашу fakemodule в переменную окружения и позволит питону найти наш модуль\n",
        "\n"
      ]
    },
    {
      "cell_type": "code",
      "metadata": {
        "id": "62Ue2ovHmnTC"
      },
      "source": [],
      "execution_count": null,
      "outputs": []
    },
    {
      "cell_type": "code",
      "metadata": {
        "id": "p2lQ4YhLms_j"
      },
      "source": [],
      "execution_count": null,
      "outputs": []
    },
    {
      "cell_type": "code",
      "metadata": {
        "id": "A4FyM3HZoThB"
      },
      "source": [],
      "execution_count": null,
      "outputs": []
    }
  ]
}